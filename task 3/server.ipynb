{
 "cells": [
  {
   "cell_type": "code",
   "execution_count": 1,
   "id": "0fb8d356",
   "metadata": {},
   "outputs": [
    {
     "name": "stdout",
     "output_type": "stream",
     "text": [
      "HOST IP: 192.168.99.1\n",
      "Socket Created Successfully\n",
      "Socket Bind Successfully\n",
      "Listening At: ('192.168.99.1', 1)\n",
      "Socket Accepted\n"
     ]
    }
   ],
   "source": [
    "import socket,cv2, pickle,struct\n",
    "\n",
    "\n",
    "#socket creation\n",
    "\n",
    "server_socket = socket.socket(socket.AF_INET,socket.SOCK_STREAM)\n",
    "host_name = socket.gethostname()\n",
    "host_ip = socket.gethostbyname(host_name)\n",
    "print('HOST IP:', host_ip)\n",
    "port = 1\n",
    "socket_address = (host_ip,port)\n",
    "print(\"Socket Created Successfully\")\n",
    "# Binding the socket with ip and port no 9999 . choose any  port no which you want\n",
    "\n",
    "server_socket.bind(socket_address)\n",
    "print(\"Socket Bind Successfully\")\n",
    "\n",
    "server_socket.listen(5)\n",
    "print(\"Listening At:\",socket_address)\n",
    "\n",
    "print(\"Socket Accepted\")"
   ]
  },
  {
   "cell_type": "code",
   "execution_count": null,
   "id": "e04c8fa1",
   "metadata": {},
   "outputs": [
    {
     "name": "stdout",
     "output_type": "stream",
     "text": [
      "GOT CONNECTION FROM: ('192.168.99.1', 49580)\n"
     ]
    }
   ],
   "source": [
    "# Streaming the captured video\n",
    "while True:\n",
    "    client_socket,addr = server_socket.accept()\n",
    "    print('GOT CONNECTION FROM:',addr)\n",
    "    if client_socket:\n",
    "        video = cv2.VideoCapture(0) # 0 for internel cam 1 for external cam\n",
    "\n",
    "        \n",
    "        while(video.isOpened()):\n",
    "            img,frame = video.read()\n",
    "            temp = pickle.dumps(frame)\n",
    "            message = struct.pack(\"Q\",len(temp))+temp\n",
    "            client_socket.sendall(message)\n",
    "            print(temp)\n",
    "            \n",
    "            cv2.imshow('server Video',frame)\n",
    "            key = cv2.waitKey(1) & 0xFF\n",
    "            if key ==ord('q'):\n",
    "                client_socket.close()  \n",
    "            if cv2.waitKey(10)==13: #13 for enter key waits as long as enter key is pressed\n",
    "                cv2.destroyAllWindows() # closing the video chat window\n",
    "                video.release()\n",
    "\n",
    "\n",
    "\n",
    "\n",
    "\n",
    "\n",
    "print(\"THANK YOU ALL\")"
   ]
  },
  {
   "cell_type": "code",
   "execution_count": null,
   "id": "1dde2347",
   "metadata": {},
   "outputs": [],
   "source": []
  }
 ],
 "metadata": {
  "kernelspec": {
   "display_name": "Python 3",
   "language": "python",
   "name": "python3"
  },
  "language_info": {
   "codemirror_mode": {
    "name": "ipython",
    "version": 3
   },
   "file_extension": ".py",
   "mimetype": "text/x-python",
   "name": "python",
   "nbconvert_exporter": "python",
   "pygments_lexer": "ipython3",
   "version": "3.8.8"
  }
 },
 "nbformat": 4,
 "nbformat_minor": 5
}
